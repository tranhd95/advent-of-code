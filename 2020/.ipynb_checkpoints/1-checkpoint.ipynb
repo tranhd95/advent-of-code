{
 "cells": [
  {
   "cell_type": "code",
   "execution_count": 60,
   "metadata": {},
   "outputs": [
    {
     "data": {
      "text/plain": [
       "find_product3_naive (generic function with 1 method)"
      ]
     },
     "execution_count": 60,
     "metadata": {},
     "output_type": "execute_result"
    }
   ],
   "source": [
    "to_num = str -> parse(Int, str)\n",
    "numbers_list = map(to_num, readlines(\"files/1.txt\"))\n",
    "\n",
    "function find_product2_naive(numbers)\n",
    "    # 𝒪(n²)\n",
    "    for i ∈ numbers, j ∈ numbers\n",
    "        if i + j == 2020\n",
    "            return i * j\n",
    "        end\n",
    "    end\n",
    "    return -1\n",
    "end\n",
    "\n",
    "function find_product2_faster(numbers)\n",
    "    # 𝒪(n⋅log n)\n",
    "    sorted = sort(numbers)\n",
    "    low = 1\n",
    "    high = length(numbers)\n",
    "    while low < high\n",
    "        if sorted[low] + sorted[high] == 2020\n",
    "            return sorted[low] * sorted[high]\n",
    "        end\n",
    "        (sorted[low] + sorted[high] > 2020) ? high -= 1 : low += 1\n",
    "    end\n",
    "end\n",
    "\n",
    "function find_product3_naive(numbers)\n",
    "    # 𝒪(n³)\n",
    "    for i ∈ numbers, j ∈ numbers, k ∈ numbers\n",
    "        if i + j + k == 2020\n",
    "            return i * j * k\n",
    "        end\n",
    "    end\n",
    "    return -1\n",
    "end"
   ]
  }
 ],
 "metadata": {
  "kernelspec": {
   "display_name": "Julia 1.5.2",
   "language": "julia",
   "name": "julia-1.5"
  },
  "language_info": {
   "file_extension": ".jl",
   "mimetype": "application/julia",
   "name": "julia",
   "version": "1.5.2"
  }
 },
 "nbformat": 4,
 "nbformat_minor": 4
}
